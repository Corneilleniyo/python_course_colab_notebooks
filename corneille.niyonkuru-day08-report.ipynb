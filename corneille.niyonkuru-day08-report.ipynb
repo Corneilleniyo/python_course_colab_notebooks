{
 "cells": [
  {
   "cell_type": "markdown",
   "id": "81591262-b791-4a63-b022-3e2d2d54c18c",
   "metadata": {},
   "source": [
    "# PyPro: challenge 1 \n",
    "#### Basic Tasks"
   ]
  },
  {
   "cell_type": "markdown",
   "id": "70b43df2-0ab8-4040-9ed5-22843b43d5e1",
   "metadata": {},
   "source": [
    "1.Create a function find_max() that accepts two numeric inputs and returns the greater value. Avoid using the built-in max() function."
   ]
  },
  {
   "cell_type": "code",
   "execution_count": 22,
   "id": "8aba8a54-0076-4cda-9f14-7bfbc3a4afa6",
   "metadata": {},
   "outputs": [
    {
     "name": "stdin",
     "output_type": "stream",
     "text": [
      "n1 4.9\n",
      "n2 5.0\n"
     ]
    },
    {
     "name": "stdout",
     "output_type": "stream",
     "text": [
      "5.0\n"
     ]
    }
   ],
   "source": [
    "def find_max(a,b):\n",
    "    if a>b:\n",
    "        return a\n",
    "    elif b>a:\n",
    "        return b\n",
    "    else:\n",
    "        return a \n",
    "\n",
    "n1=eval(input('n1'))\n",
    "n2=eval(input('n2'))\n",
    "print(find_max(n1,n2))\n",
    "    "
   ]
  },
  {
   "cell_type": "markdown",
   "id": "39134bf9-115e-42e1-8fa0-a45f3cbd5aa8",
   "metadata": {},
   "source": [
    "2.Develop a function find_max_of_three() to find the maximum among three given numbers."
   ]
  },
  {
   "cell_type": "code",
   "execution_count": 18,
   "id": "55287e2c-a4d1-4e22-9bfb-e9a3f2f5da80",
   "metadata": {},
   "outputs": [
    {
     "name": "stdin",
     "output_type": "stream",
     "text": [
      " 3\n",
      " 5\n",
      " 5\n"
     ]
    }
   ],
   "source": [
    "def find_max_three():\n",
    "\n",
    "    \"\"\"this function is for find the maximum of three numbers\"\"\"\n",
    "     return max(lis) #return the value of maximum number among them\n",
    "i=1\n",
    "lis=[]\n",
    "while i <=3:\n",
    "    a=float(input())\n",
    "    lis.append(a)\n",
    "    i+=1"
   ]
  },
  {
   "cell_type": "code",
   "execution_count": 19,
   "id": "1babfa4c-3d24-43e1-8d6e-06f217935ff3",
   "metadata": {},
   "outputs": [
    {
     "data": {
      "text/plain": [
       "5.0"
      ]
     },
     "execution_count": 19,
     "metadata": {},
     "output_type": "execute_result"
    }
   ],
   "source": [
    "find_max_three() #call the function"
   ]
  },
  {
   "cell_type": "markdown",
   "id": "7b270450-9b6d-48f7-b93d-d594151348bc",
   "metadata": {},
   "source": [
    "3. Write a function to manually calculate the length of a given list or string without using len()."
   ]
  },
  {
   "cell_type": "code",
   "execution_count": 54,
   "id": "0a8ceff3-3fbf-434d-9200-b1f64629c021",
   "metadata": {},
   "outputs": [
    {
     "name": "stdin",
     "output_type": "stream",
     "text": [
      "Enter a string or list:  5,7,9,0\n"
     ]
    },
    {
     "name": "stdout",
     "output_type": "stream",
     "text": [
      "7\n"
     ]
    }
   ],
   "source": [
    "def find_length(a):\n",
    "    \"\"\"This function finds the length of  string using a for loop.\"\"\"\n",
    "    length = 0\n",
    "    for i in a:\n",
    "        length += 1\n",
    "    return length\n",
    "\n",
    "b = input(\"Enter a string or list: \")\n",
    "print(find_length(b))      # Example using input\n"
   ]
  },
  {
   "cell_type": "code",
   "execution_count": 56,
   "id": "94bd47ed-629d-4871-9d85-5f3986c7dd91",
   "metadata": {},
   "outputs": [
    {
     "name": "stdin",
     "output_type": "stream",
     "text": [
      "Enter a string or list (for list, use correct Python format, e.g., [1, 2, 3]):  [2,3,4,5,6,7,8]\n"
     ]
    },
    {
     "name": "stdout",
     "output_type": "stream",
     "text": [
      "7\n"
     ]
    }
   ],
   "source": [
    "def find_length(a):\n",
    "    \"\"\"This function finds the length of a list or string using a for loop.\"\"\"\n",
    "    length = 0\n",
    "    for i in a:\n",
    "        length += 1\n",
    "    return length\n",
    "\n",
    "# Get input from the user\n",
    "b = input(\"Enter a string or list (for list, use correct Python format, e.g., [1, 2, 3]): \")\n",
    "\n",
    "# Check if the input looks like a list (starts with '[' and ends with ']')\n",
    "if b.startswith('[') and b.endswith(']'):\n",
    "    # Convert the string input into a list (remove brackets, split by commas)\n",
    "    # Strip whitespace, and convert individual elements as necessary\n",
    "    b = b[1:-1].split(',')  # This creates a list of strings\n",
    "    b = [x.strip() for x in b]  # Strip leading/trailing spaces from each element\n",
    "\n",
    "print(find_length(b))\n"
   ]
  },
  {
   "cell_type": "markdown",
   "id": "f2991ef5-9d44-4edd-9bbe-8d74bed52819",
   "metadata": {},
   "source": [
    "4. Implement a function that checks if a given character is a vowel (a, e, i, o, u)."
   ]
  },
  {
   "cell_type": "code",
   "execution_count": 62,
   "id": "c1e37e63-5cf3-4fc0-901f-3fd2a47397d6",
   "metadata": {},
   "outputs": [
    {
     "name": "stdin",
     "output_type": "stream",
     "text": [
      "Enter any character:  t\n"
     ]
    },
    {
     "name": "stdout",
     "output_type": "stream",
     "text": [
      "t is not a vowel\n"
     ]
    }
   ],
   "source": [
    "def check_vowel(vow):\n",
    "    \"\"\"This function checks if the given character is a vowel.\"\"\"\n",
    "    vow_char = ['a', 'e', 'i', 'o', 'u']\n",
    "    if vow in vow_char:\n",
    "        return \"{} is a vowel\".format(vow)\n",
    "    else:\n",
    "        return \"{} is not a vowel\".format(vow)\n",
    "\n",
    "# Get input from the user\n",
    "vow = input(\"Enter any character: \")\n",
    "\n",
    "# Call the function\n",
    "print(check_vowel(vow))\n"
   ]
  },
  {
   "cell_type": "markdown",
   "id": "99ebebea-b719-4bdc-b36e-5ec5351053a6",
   "metadata": {},
   "source": [
    "5. Write a function encode() that converts a string into \"rövarspråket\" (robber's language) by doubling consonants and placing \"o\" in between, e.g., \"hello\" -> \"hohelollolo\"."
   ]
  },
  {
   "cell_type": "code",
   "execution_count": 76,
   "id": "aba26795-f7a8-4069-b505-02b6cab57b9a",
   "metadata": {},
   "outputs": [
    {
     "name": "stdin",
     "output_type": "stream",
     "text": [
      "Enter a string:  hello\n"
     ]
    },
    {
     "name": "stdout",
     "output_type": "stream",
     "text": [
      "hohelollolo\n"
     ]
    }
   ],
   "source": [
    "def double_consonants(st):\n",
    "    \"\"\"This function doubles consonants and places 'o' in between.\"\"\"\n",
    "    vowels = ['a', 'e', 'i', 'o', 'u']  #  vowels\n",
    "    result = ''\n",
    "    \n",
    "    for char in st:\n",
    "        if char.lower() not in vowels and char.isalpha():  # Check if it's a consonant\n",
    "            result += char + 'o' + char\n",
    "        else:\n",
    "            result += char  # Leave vowels and non-letters unchanged\n",
    "    \n",
    "    return result\n",
    "\n",
    "# Get input from the user\n",
    "st = input(\"Enter a string: \").lower() # converts into lower case if there is upper case entred\n",
    "print(double_consonants(st))\n"
   ]
  },
  {
   "cell_type": "markdown",
   "id": "4872d3e4-c018-4e2f-8c54-7d86104aeda4",
   "metadata": {},
   "source": [
    "6.Create sum_elements() and product_elements() functions to sum and multiply all elements in a list, respectively."
   ]
  },
  {
   "cell_type": "code",
   "execution_count": 81,
   "id": "16219a76-de3a-484c-9565-8ab19d4a49cc",
   "metadata": {},
   "outputs": [],
   "source": [
    "lis_elts=[1,2,3,4,5,6,7,9]\n",
    "\n",
    "def sum_elements():\n",
    "    \"\"\" This functions is for sum all elements in a list \"\"\"\n",
    "    sum_elts=0\n",
    "    for elt in lis_elts:\n",
    "        sum_elts+=elt #summation of elements\n",
    "    print( \"The sum of elements is {}\".format(sum_elts))\n",
    "\n",
    "def product_elements():\n",
    "    \"\"\" This functions is for multiply all elements in a list \"\"\"\n",
    "    prod_elts=1\n",
    "    for elt in lis_elts:\n",
    "        prod_elts*=elt #product of elements\n",
    "    print( \"The product of elements is {}\".format(prod_elts))\n"
   ]
  },
  {
   "cell_type": "code",
   "execution_count": 82,
   "id": "c71549dd-7f0f-4ab1-9ea3-ef7974629ff6",
   "metadata": {},
   "outputs": [
    {
     "name": "stdout",
     "output_type": "stream",
     "text": [
      "The sum of elements is 37\n",
      "The product of elements is 45360\n"
     ]
    }
   ],
   "source": [
    "#coll function\n",
    "sum_elements()\n",
    "product_elements()"
   ]
  },
  {
   "cell_type": "markdown",
   "id": "aa1d132f-84f3-41af-9095-ff0070e29601",
   "metadata": {},
   "source": [
    "7.Define a function reverse_string() to reverse the characters in a given string."
   ]
  },
  {
   "cell_type": "code",
   "execution_count": 91,
   "id": "44102765-6fd5-4964-87f1-e3d648605d0a",
   "metadata": {},
   "outputs": [
    {
     "name": "stdin",
     "output_type": "stream",
     "text": [
      "Enter a string to reverse:  good\n"
     ]
    },
    {
     "data": {
      "text/plain": [
       "'doog'"
      ]
     },
     "execution_count": 91,
     "metadata": {},
     "output_type": "execute_result"
    }
   ],
   "source": [
    "def reverse_string(str_ch):\n",
    "    \"\"\"The function to reverse the characters in a given string.\"\"\"\n",
    "    \n",
    "    new_str = ''\n",
    "    y = len(str_ch)\n",
    "    # Reverse the string\n",
    "    while y>0:  \n",
    "        new_str += str_ch[y-1]  # Append the current character to new_str\n",
    "        y -= 1  # Decrement the index\n",
    "    return new_str\n",
    "\n",
    "# Get input from the user\n",
    "str_ch = input(\"Enter a string to reverse: \")\n",
    "reverse_string(str_ch)\n"
   ]
  },
  {
   "cell_type": "markdown",
   "id": "f787e1b7-5f57-4e71-81e5-67a90b20ac1f",
   "metadata": {},
   "source": [
    "8.Implement check_palindrome() to verify if a string reads the same forwards and backwards, i.e. is a palindrome."
   ]
  },
  {
   "cell_type": "code",
   "execution_count": 95,
   "id": "56b1a8fb-dbec-4746-b827-e5ee5f644630",
   "metadata": {},
   "outputs": [
    {
     "name": "stdin",
     "output_type": "stream",
     "text": [
      "Enter a word to check if it palindome:  madam\n"
     ]
    },
    {
     "data": {
      "text/plain": [
       "'madam is palindrome.'"
      ]
     },
     "execution_count": 95,
     "metadata": {},
     "output_type": "execute_result"
    }
   ],
   "source": [
    "def check_palindrome(str_char):\n",
    "    \"\"\"Function its use is to verify if a string reads the same forwards and backwards, i.e. is a palindrome.\"\"\"\n",
    "    if str_char==reverse_string(str_char): # compare with input string and reverse, will call above function reverse_string()\n",
    "         return \"{} is palindrome.\".format(str_char)\n",
    "    else:\n",
    "        return \"{} is not palindome.\".format(str_char)\n",
    "\n",
    "# Get input from the user\n",
    "str_char = input(\"Enter a word to check if it palindome: \").lower()\n",
    "check_palindrome(str_char)"
   ]
  },
  {
   "cell_type": "markdown",
   "id": "232b5381-1aa8-4316-a24e-38e0d2d28f4b",
   "metadata": {},
   "source": [
    "9.Develop a function check_membership() to determine if a value exists within a list."
   ]
  },
  {
   "cell_type": "code",
   "execution_count": 104,
   "id": "d8e69e64-8859-4baf-97aa-63e3da8613c4",
   "metadata": {},
   "outputs": [
    {
     "name": "stdin",
     "output_type": "stream",
     "text": [
      "Enter any element to chech if it in list:  5\n"
     ]
    },
    {
     "data": {
      "text/plain": [
       "True"
      ]
     },
     "execution_count": 104,
     "metadata": {},
     "output_type": "execute_result"
    }
   ],
   "source": [
    "def check_membership(elt,lis):\n",
    "    \n",
    "    \"\"\"function check if a value exists within a list. \"\"\"\n",
    "    \n",
    "    for y in  lis:\n",
    "        if y==elt:\n",
    "            return True\n",
    "    return False\n",
    "\n",
    "lis=[1,2,3,4,5,6,7,8]\n",
    "\n",
    "elt=eval(input(\"Enter any element to chech if it in list: \"))\n",
    "check_membership(elt,lis)        "
   ]
  },
  {
   "cell_type": "markdown",
   "id": "7c97d092-eee4-4d55-9043-fa41c760e4f0",
   "metadata": {},
   "source": [
    "10.Write check_overlap() to identify if two lists share any elements"
   ]
  },
  {
   "cell_type": "code",
   "execution_count": 117,
   "id": "1083a55b-1ce6-4ccd-aa72-724ffe5c07bc",
   "metadata": {},
   "outputs": [
    {
     "data": {
      "text/plain": [
       "[2, 4, 6, 6]"
      ]
     },
     "execution_count": 117,
     "metadata": {},
     "output_type": "execute_result"
    }
   ],
   "source": [
    "def check_overlap(lis_1,lis_2):\n",
    "    \"\"\"Function will used to identify if two lists share any elements \"\"\"\n",
    "    lis_3=[] # for store share elements\n",
    "    for y in lis_1: \n",
    "        if check_membership(y,lis_2) is True: # will use the check_membership() to \n",
    "            lis_3.append(y)\n",
    "    return lis_3\n",
    "lis_1=[2,4,6,79,5,6]\n",
    "lis_2=[3,1,2,6,7,8,4]\n",
    "check_overlap(lis_1,lis_2) \n",
    "    "
   ]
  },
  {
   "cell_type": "code",
   "execution_count": null,
   "id": "1b85498f-baea-4b41-9ca0-50d9c2ef933a",
   "metadata": {},
   "outputs": [],
   "source": []
  }
 ],
 "metadata": {
  "kernelspec": {
   "display_name": "Python 3 (ipykernel)",
   "language": "python",
   "name": "python3"
  },
  "language_info": {
   "codemirror_mode": {
    "name": "ipython",
    "version": 3
   },
   "file_extension": ".py",
   "mimetype": "text/x-python",
   "name": "python",
   "nbconvert_exporter": "python",
   "pygments_lexer": "ipython3",
   "version": "3.12.4"
  }
 },
 "nbformat": 4,
 "nbformat_minor": 5
}
